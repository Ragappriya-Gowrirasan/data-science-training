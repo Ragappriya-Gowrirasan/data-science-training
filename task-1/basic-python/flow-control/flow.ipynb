{
 "cells": [
  {
   "cell_type": "markdown",
   "metadata": {},
   "source": [
    "python conditional statement"
   ]
  },
  {
   "cell_type": "code",
   "execution_count": null,
   "metadata": {},
   "outputs": [
    {
     "name": "stdout",
     "output_type": "stream",
     "text": [
      "true\n"
     ]
    }
   ],
   "source": [
    "if 50 > 10:\n",
    "    print('true')\n"
   ]
  },
  {
   "cell_type": "code",
   "execution_count": null,
   "metadata": {},
   "outputs": [
    {
     "name": "stdout",
     "output_type": "stream",
     "text": [
      "true\n"
     ]
    }
   ],
   "source": [
    "if (2>1) and (8>5):\n",
    "    print('true')"
   ]
  },
  {
   "cell_type": "code",
   "execution_count": null,
   "metadata": {},
   "outputs": [],
   "source": [
    "if (5<2) and (6<3):\n",
    "    print('this condition is true')\n"
   ]
  },
  {
   "cell_type": "code",
   "execution_count": null,
   "metadata": {},
   "outputs": [],
   "source": [
    "if (7< 10)and (6>17):\n",
    "    print('true condition')\n"
   ]
  },
  {
   "cell_type": "code",
   "execution_count": null,
   "metadata": {},
   "outputs": [
    {
     "name": "stdout",
     "output_type": "stream",
     "text": [
      "true condition\n"
     ]
    }
   ],
   "source": [
    "if (9>7) or (8<5):\n",
    "    print('true condition')"
   ]
  },
  {
   "cell_type": "code",
   "execution_count": null,
   "metadata": {},
   "outputs": [
    {
     "name": "stdout",
     "output_type": "stream",
     "text": [
      "not equal\n"
     ]
    }
   ],
   "source": [
    "a = 100\n",
    "if a == 20:\n",
    "    print('equal')\n",
    "else:\n",
    "    print('not equal')"
   ]
  },
  {
   "cell_type": "code",
   "execution_count": null,
   "metadata": {},
   "outputs": [
    {
     "name": "stdout",
     "output_type": "stream",
     "text": [
      "is a 20\n"
     ]
    }
   ],
   "source": [
    "a = 20\n",
    "\n",
    "if a == 10:\n",
    "    print('equal')\n",
    "elif a == 20:\n",
    "    print('is a 20')\n",
    "else:\n",
    "    print('not equal')"
   ]
  },
  {
   "cell_type": "code",
   "execution_count": 8,
   "metadata": {},
   "outputs": [
    {
     "name": "stdout",
     "output_type": "stream",
     "text": [
      "value a is not equal value b\n"
     ]
    }
   ],
   "source": [
    "a = int(input('enter the a value'))\n",
    "b = int(input('enter the b value'))\n",
    "\n",
    "if a==b:\n",
    "    print(\"value a is not equal value b\")\n",
    "else:\n",
    "    print(\"value a is equal value b\")\n",
    "\n"
   ]
  },
  {
   "cell_type": "code",
   "execution_count": 2,
   "metadata": {},
   "outputs": [
    {
     "name": "stdout",
     "output_type": "stream",
     "text": [
      "conditional is not equal\n"
     ]
    }
   ],
   "source": [
    "a = 20\n",
    "b = 27\n",
    "\n",
    "if a==b:\n",
    "    print(\"conditional is equal\")\n",
    "else:\n",
    "    print(\"conditional is not equal\")"
   ]
  },
  {
   "cell_type": "code",
   "execution_count": 10,
   "metadata": {},
   "outputs": [
    {
     "name": "stdout",
     "output_type": "stream",
     "text": [
      "input value is greaterthan 10\n"
     ]
    }
   ],
   "source": [
    "a = int(input('type a value'))\n",
    "\n",
    "if a > 10:\n",
    "    print(\"input value is greaterthan 10\")\n",
    "else:\n",
    "    print(\"iput value lessthan 10\")"
   ]
  },
  {
   "cell_type": "markdown",
   "metadata": {},
   "source": [
    "##Nested if Statement in python##"
   ]
  },
  {
   "cell_type": "code",
   "execution_count": 11,
   "metadata": {},
   "outputs": [
    {
     "name": "stdout",
     "output_type": "stream",
     "text": [
      "a is not equal 0\n"
     ]
    }
   ],
   "source": [
    "a = 100\n",
    "if a > 0:\n",
    "    if a == 0:\n",
    "        print('a equal 0')\n",
    "    else:\n",
    "        print('a is not equal 0')\n",
    "else:\n",
    "    print('a is graterthan 0')"
   ]
  },
  {
   "cell_type": "code",
   "execution_count": 33,
   "metadata": {},
   "outputs": [
    {
     "name": "stdout",
     "output_type": "stream",
     "text": [
      "a sub b\n"
     ]
    }
   ],
   "source": [
    "a = int(input('type a value '))\n",
    "b = int(input('type b value'))\n",
    "if a>b:\n",
    "    if a+b:\n",
    "        print('a sum b')\n",
    "    else:\n",
    "        print('this is not match')\n",
    "elif a<b:\n",
    "    if a-b:\n",
    "        print('a sub b')\n",
    "    else:\n",
    "        print('a is not sub b')\n",
    "else:\n",
    "    print('a is not greater than b')\n",
    "\n"
   ]
  },
  {
   "cell_type": "code",
   "execution_count": 32,
   "metadata": {},
   "outputs": [
    {
     "name": "stdout",
     "output_type": "stream",
     "text": [
      "a less than equal\n"
     ]
    }
   ],
   "source": [
    "a = int(input('type a value '))\n",
    "b = int(input('type a value '))\n",
    "if a <= b:\n",
    "    print('a less than equal')\n",
    "else:\n",
    "    print('a is not less than equal')"
   ]
  },
  {
   "cell_type": "code",
   "execution_count": null,
   "metadata": {},
   "outputs": [],
   "source": []
  }
 ],
 "metadata": {
  "kernelspec": {
   "display_name": "Python 3",
   "language": "python",
   "name": "python3"
  },
  "language_info": {
   "codemirror_mode": {
    "name": "ipython",
    "version": 3
   },
   "file_extension": ".py",
   "mimetype": "text/x-python",
   "name": "python",
   "nbconvert_exporter": "python",
   "pygments_lexer": "ipython3",
   "version": "3.11.3"
  },
  "orig_nbformat": 4
 },
 "nbformat": 4,
 "nbformat_minor": 2
}
