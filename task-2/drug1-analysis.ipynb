{
  "cells": [
    {
      "cell_type": "code",
      "execution_count": 1,
      "metadata": {
        "id": "DTVkVSwnmaA5"
      },
      "outputs": [],
      "source": [
        "import requests as req"
      ]
    },
    {
      "cell_type": "code",
      "execution_count": 2,
      "metadata": {
        "id": "ekh3rqqGnWkL"
      },
      "outputs": [],
      "source": [
        "from bs4 import BeautifulSoup as bs"
      ]
    },
    {
      "cell_type": "code",
      "execution_count": 3,
      "metadata": {
        "id": "NABlF7yfROCq"
      },
      "outputs": [],
      "source": [
        "import pandas as pd"
      ]
    },
    {
      "cell_type": "code",
      "execution_count": 5,
      "metadata": {
        "id": "zM2w6WUNSdex"
      },
      "outputs": [],
      "source": [
        "import wordcloud"
      ]
    },
    {
      "cell_type": "code",
      "execution_count": 6,
      "metadata": {
        "id": "zs6fGdduVAvk"
      },
      "outputs": [],
      "source": [
        "import matplotlib.pyplot as plt\n"
      ]
    },
    {
      "cell_type": "code",
      "execution_count": null,
      "metadata": {
        "id": "Vhf6v2b0lbn5"
      },
      "outputs": [],
      "source": [
        "#url = \"https://reviews.webmd.com/drugs/drugreview-841-atorvastatin-oral?conditionid=&sortval=1&page=1&next_page=true\"\n"
      ]
    },
    {
      "cell_type": "code",
      "execution_count": null,
      "metadata": {
        "id": "pH4vyaWumY0g"
      },
      "outputs": [],
      "source": [
        "# res = req.get(url)\n",
        "# soup = bs(res.content , 'lxml')\n",
        "# #print(soup)"
      ]
    },
    {
      "cell_type": "code",
      "execution_count": 5,
      "metadata": {
        "id": "_d8azjskaAxD"
      },
      "outputs": [],
      "source": [
        "# Initialize an empty list to store BeautifulSoup objects for all pages\n",
        "all_page_contents = []"
      ]
    },
    {
      "cell_type": "code",
      "execution_count": 6,
      "metadata": {
        "colab": {
          "base_uri": "https://localhost:8080/"
        },
        "id": "7wO-9xvKoqle",
        "outputId": "e5b6d92a-5b62-4762-af12-c939ccc76feb"
      },
      "outputs": [
        {
          "name": "stdout",
          "output_type": "stream",
          "text": [
            "10\n"
          ]
        }
      ],
      "source": [
        "# Iterate through pages 1 to 10\n",
        "for r in range(1, 11):\n",
        "    # Construct the URL for the current page\n",
        "    url = f\"https://reviews.webmd.com/drugs/drugreview-841-atorvastatin-oral?conditionid=&sortval=1&page={r}&next_page=true\"\n",
        "\n",
        "    # Send an HTTP GET request to the URL\n",
        "    response = req.get(url)\n",
        "\n",
        "    # Create a BeautifulSoup object to parse the page content\n",
        "    one_page_content = bs(response.content, 'lxml')\n",
        "\n",
        "    # Append the BeautifulSoup object to the list\n",
        "    all_page_contents.append(one_page_content)\n",
        "\n",
        "# Print the total number of BeautifulSoup objects collected (should be 10)\n",
        "print(len(all_page_contents))\n",
        "\n"
      ]
    },
    {
      "cell_type": "code",
      "execution_count": null,
      "metadata": {
        "colab": {
          "base_uri": "https://localhost:8080/",
          "height": 390
        },
        "id": "XbKiSN0haOMH",
        "outputId": "dd2ab95c-053e-45f9-81ef-29092c3e522f"
      },
      "outputs": [
        {
          "ename": "TypeError",
          "evalue": "ignored",
          "output_type": "error",
          "traceback": [
            "\u001b[0;31m---------------------------------------------------------------------------\u001b[0m",
            "\u001b[0;31mTypeError\u001b[0m                                 Traceback (most recent call last)",
            "\u001b[0;32m<ipython-input-168-1257d5d26b73>\u001b[0m in \u001b[0;36m<cell line: 5>\u001b[0;34m()\u001b[0m\n\u001b[1;32m      3\u001b[0m \u001b[0;34m\u001b[0m\u001b[0m\n\u001b[1;32m      4\u001b[0m \u001b[0;31m# Create a BeautifulSoup object to parse the HTML\u001b[0m\u001b[0;34m\u001b[0m\u001b[0;34m\u001b[0m\u001b[0m\n\u001b[0;32m----> 5\u001b[0;31m \u001b[0msoup\u001b[0m \u001b[0;34m=\u001b[0m \u001b[0mbs\u001b[0m\u001b[0;34m(\u001b[0m\u001b[0mall_page_contents\u001b[0m\u001b[0;34m,\u001b[0m\u001b[0;34m'html.parser'\u001b[0m\u001b[0;34m)\u001b[0m\u001b[0;34m\u001b[0m\u001b[0;34m\u001b[0m\u001b[0m\n\u001b[0m\u001b[1;32m      6\u001b[0m \u001b[0;34m\u001b[0m\u001b[0m\n\u001b[1;32m      7\u001b[0m \u001b[0;31m# Find all <div> elements with the class \"review-details\"\u001b[0m\u001b[0;34m\u001b[0m\u001b[0;34m\u001b[0m\u001b[0m\n",
            "\u001b[0;32m/usr/local/lib/python3.10/dist-packages/bs4/__init__.py\u001b[0m in \u001b[0;36m__init__\u001b[0;34m(self, markup, features, builder, parse_only, from_encoding, exclude_encodings, element_classes, **kwargs)\u001b[0m\n\u001b[1;32m    324\u001b[0m         \u001b[0mrejections\u001b[0m \u001b[0;34m=\u001b[0m \u001b[0;34m[\u001b[0m\u001b[0;34m]\u001b[0m\u001b[0;34m\u001b[0m\u001b[0;34m\u001b[0m\u001b[0m\n\u001b[1;32m    325\u001b[0m         \u001b[0msuccess\u001b[0m \u001b[0;34m=\u001b[0m \u001b[0;32mFalse\u001b[0m\u001b[0;34m\u001b[0m\u001b[0;34m\u001b[0m\u001b[0m\n\u001b[0;32m--> 326\u001b[0;31m         for (self.markup, self.original_encoding, self.declared_html_encoding,\n\u001b[0m\u001b[1;32m    327\u001b[0m          \u001b[0mself\u001b[0m\u001b[0;34m.\u001b[0m\u001b[0mcontains_replacement_characters\u001b[0m\u001b[0;34m)\u001b[0m \u001b[0;32min\u001b[0m \u001b[0;34m(\u001b[0m\u001b[0;34m\u001b[0m\u001b[0;34m\u001b[0m\u001b[0m\n\u001b[1;32m    328\u001b[0m              self.builder.prepare_markup(\n",
            "\u001b[0;32m/usr/local/lib/python3.10/dist-packages/bs4/builder/_htmlparser.py\u001b[0m in \u001b[0;36mprepare_markup\u001b[0;34m(self, markup, user_specified_encoding, document_declared_encoding, exclude_encodings)\u001b[0m\n\u001b[1;32m    342\u001b[0m \u001b[0;34m\u001b[0m\u001b[0m\n\u001b[1;32m    343\u001b[0m         \u001b[0mtry_encodings\u001b[0m \u001b[0;34m=\u001b[0m \u001b[0;34m[\u001b[0m\u001b[0muser_specified_encoding\u001b[0m\u001b[0;34m,\u001b[0m \u001b[0mdocument_declared_encoding\u001b[0m\u001b[0;34m]\u001b[0m\u001b[0;34m\u001b[0m\u001b[0;34m\u001b[0m\u001b[0m\n\u001b[0;32m--> 344\u001b[0;31m         dammit = UnicodeDammit(\n\u001b[0m\u001b[1;32m    345\u001b[0m             \u001b[0mmarkup\u001b[0m\u001b[0;34m,\u001b[0m\u001b[0;34m\u001b[0m\u001b[0;34m\u001b[0m\u001b[0m\n\u001b[1;32m    346\u001b[0m             \u001b[0mknown_definite_encodings\u001b[0m\u001b[0;34m=\u001b[0m\u001b[0mknown_definite_encodings\u001b[0m\u001b[0;34m,\u001b[0m\u001b[0;34m\u001b[0m\u001b[0;34m\u001b[0m\u001b[0m\n",
            "\u001b[0;32m/usr/local/lib/python3.10/dist-packages/bs4/dammit.py\u001b[0m in \u001b[0;36m__init__\u001b[0;34m(self, markup, known_definite_encodings, smart_quotes_to, is_html, exclude_encodings, user_encodings, override_encodings)\u001b[0m\n\u001b[1;32m    599\u001b[0m \u001b[0;34m\u001b[0m\u001b[0m\n\u001b[1;32m    600\u001b[0m         \u001b[0mu\u001b[0m \u001b[0;34m=\u001b[0m \u001b[0;32mNone\u001b[0m\u001b[0;34m\u001b[0m\u001b[0;34m\u001b[0m\u001b[0m\n\u001b[0;32m--> 601\u001b[0;31m         \u001b[0;32mfor\u001b[0m \u001b[0mencoding\u001b[0m \u001b[0;32min\u001b[0m \u001b[0mself\u001b[0m\u001b[0;34m.\u001b[0m\u001b[0mdetector\u001b[0m\u001b[0;34m.\u001b[0m\u001b[0mencodings\u001b[0m\u001b[0;34m:\u001b[0m\u001b[0;34m\u001b[0m\u001b[0;34m\u001b[0m\u001b[0m\n\u001b[0m\u001b[1;32m    602\u001b[0m             \u001b[0mmarkup\u001b[0m \u001b[0;34m=\u001b[0m \u001b[0mself\u001b[0m\u001b[0;34m.\u001b[0m\u001b[0mdetector\u001b[0m\u001b[0;34m.\u001b[0m\u001b[0mmarkup\u001b[0m\u001b[0;34m\u001b[0m\u001b[0;34m\u001b[0m\u001b[0m\n\u001b[1;32m    603\u001b[0m             \u001b[0mu\u001b[0m \u001b[0;34m=\u001b[0m \u001b[0mself\u001b[0m\u001b[0;34m.\u001b[0m\u001b[0m_convert_from\u001b[0m\u001b[0;34m(\u001b[0m\u001b[0mencoding\u001b[0m\u001b[0;34m)\u001b[0m\u001b[0;34m\u001b[0m\u001b[0;34m\u001b[0m\u001b[0m\n",
            "\u001b[0;32m/usr/local/lib/python3.10/dist-packages/bs4/dammit.py\u001b[0m in \u001b[0;36mencodings\u001b[0;34m(self)\u001b[0m\n\u001b[1;32m    432\u001b[0m         \u001b[0;31m# declaration.\u001b[0m\u001b[0;34m\u001b[0m\u001b[0;34m\u001b[0m\u001b[0m\n\u001b[1;32m    433\u001b[0m         \u001b[0;32mif\u001b[0m \u001b[0mself\u001b[0m\u001b[0;34m.\u001b[0m\u001b[0mdeclared_encoding\u001b[0m \u001b[0;32mis\u001b[0m \u001b[0;32mNone\u001b[0m\u001b[0;34m:\u001b[0m\u001b[0;34m\u001b[0m\u001b[0;34m\u001b[0m\u001b[0m\n\u001b[0;32m--> 434\u001b[0;31m             self.declared_encoding = self.find_declared_encoding(\n\u001b[0m\u001b[1;32m    435\u001b[0m                 self.markup, self.is_html)\n\u001b[1;32m    436\u001b[0m         \u001b[0;32mif\u001b[0m \u001b[0mself\u001b[0m\u001b[0;34m.\u001b[0m\u001b[0m_usable\u001b[0m\u001b[0;34m(\u001b[0m\u001b[0mself\u001b[0m\u001b[0;34m.\u001b[0m\u001b[0mdeclared_encoding\u001b[0m\u001b[0;34m,\u001b[0m \u001b[0mtried\u001b[0m\u001b[0;34m)\u001b[0m\u001b[0;34m:\u001b[0m\u001b[0;34m\u001b[0m\u001b[0;34m\u001b[0m\u001b[0m\n",
            "\u001b[0;32m/usr/local/lib/python3.10/dist-packages/bs4/dammit.py\u001b[0m in \u001b[0;36mfind_declared_encoding\u001b[0;34m(cls, markup, is_html, search_entire_document)\u001b[0m\n\u001b[1;32m    509\u001b[0m         \u001b[0mhtml_re\u001b[0m \u001b[0;34m=\u001b[0m \u001b[0mres\u001b[0m\u001b[0;34m[\u001b[0m\u001b[0;34m'html'\u001b[0m\u001b[0;34m]\u001b[0m\u001b[0;34m\u001b[0m\u001b[0;34m\u001b[0m\u001b[0m\n\u001b[1;32m    510\u001b[0m         \u001b[0mdeclared_encoding\u001b[0m \u001b[0;34m=\u001b[0m \u001b[0;32mNone\u001b[0m\u001b[0;34m\u001b[0m\u001b[0;34m\u001b[0m\u001b[0m\n\u001b[0;32m--> 511\u001b[0;31m         \u001b[0mdeclared_encoding_match\u001b[0m \u001b[0;34m=\u001b[0m \u001b[0mxml_re\u001b[0m\u001b[0;34m.\u001b[0m\u001b[0msearch\u001b[0m\u001b[0;34m(\u001b[0m\u001b[0mmarkup\u001b[0m\u001b[0;34m,\u001b[0m \u001b[0mendpos\u001b[0m\u001b[0;34m=\u001b[0m\u001b[0mxml_endpos\u001b[0m\u001b[0;34m)\u001b[0m\u001b[0;34m\u001b[0m\u001b[0;34m\u001b[0m\u001b[0m\n\u001b[0m\u001b[1;32m    512\u001b[0m         \u001b[0;32mif\u001b[0m \u001b[0;32mnot\u001b[0m \u001b[0mdeclared_encoding_match\u001b[0m \u001b[0;32mand\u001b[0m \u001b[0mis_html\u001b[0m\u001b[0;34m:\u001b[0m\u001b[0;34m\u001b[0m\u001b[0;34m\u001b[0m\u001b[0m\n\u001b[1;32m    513\u001b[0m             \u001b[0mdeclared_encoding_match\u001b[0m \u001b[0;34m=\u001b[0m \u001b[0mhtml_re\u001b[0m\u001b[0;34m.\u001b[0m\u001b[0msearch\u001b[0m\u001b[0;34m(\u001b[0m\u001b[0mmarkup\u001b[0m\u001b[0;34m,\u001b[0m \u001b[0mendpos\u001b[0m\u001b[0;34m=\u001b[0m\u001b[0mhtml_endpos\u001b[0m\u001b[0;34m)\u001b[0m\u001b[0;34m\u001b[0m\u001b[0;34m\u001b[0m\u001b[0m\n",
            "\u001b[0;31mTypeError\u001b[0m: expected string or bytes-like object"
          ]
        }
      ],
      "source": [
        "# # Create an empty list to store data.\n",
        "# data = []\n",
        "\n",
        "# # Create a BeautifulSoup object to parse the HTML\n",
        "# soup = bs(all_page_contents,'html.parser')\n",
        "\n",
        "# # Find all <div> elements with the class \"review-details\"\n",
        "# result = soup.find_all(\"div\", class_=\"review-details\")\n",
        "\n",
        "# # Loop through the first 20 \"review-details\" elements found by 'find_all'\n",
        "# for review in result[:20]:\n",
        "#     # Extract the text content of each element and append it to the 'data' list\n",
        "#     data.append(review.text)\n",
        "\n",
        "# # Print the length of the 'data' list, which represents the number of elements collected (maximum 20).\n",
        "# print(len(data))\n",
        "\n"
      ]
    },
    {
      "cell_type": "code",
      "execution_count": null,
      "metadata": {
        "id": "k7Qp22I1Hdmk"
      },
      "outputs": [],
      "source": [
        "# pages = []\n",
        "# for result in all_page_contents:\n",
        "#   result = soup.find_all(\"div\", class_=\"review-details\")\n",
        "#   if result.\n"
      ]
    },
    {
      "cell_type": "code",
      "execution_count": 10,
      "metadata": {
        "colab": {
          "base_uri": "https://localhost:8080/",
          "height": 254
        },
        "id": "m8MKvB51jEhA",
        "outputId": "9fcfae23-27f8-4e0c-b65c-74e40fa27207"
      },
      "outputs": [
        {
          "name": "stdout",
          "output_type": "stream",
          "text": [
            "[\" Anonymous |   45-54 |   Male |   On medication for 1 to 6 months |   Patient   8/25/2023  Condition: Treatment to Prevent a Heart Attack  Overall rating 2.7 EffectivenessEase of UseSatisfactionThe reviews are insightful, but I'd love to read more about the recovery time.  We're all writing at the time of our pain, but there is very limited information on the time frames for recovery.  For me, I started at 80mg of Atorvastatin right after a stent placement.  It wasn't until 5 months later that I experienced horrible joint pain that kept moving throughout my body.  It was to the point that it kept me up all night.\\n\\nOne month later after stopping taking the drug, I'm still dealing with horrible shoulder pain, but it seems to be getting better; but very slowly.  My wrist has experienced excruciating pain and is finally getting better; I can make a fist.  My shoulders, I couldn't even lift my arms without feeling excruciating pain.  Now, I'm still in pain, but I can lift arms slightly higher.  My legs have been nonstop, but the pain oddly moves around.  Now, it is in the back of my upper hamstrings where the glutes meet; resulting in pain and discomfort when I sit and stand, and it forces me to walk with a limp.\\n\\nI'm trying to be optimistic based on a few reviews that people did recover within 3 months.  To date, mine is at the one month mark.  So, I'm hoping to find a site that gives more information on the recovery times which is quite important for people to know.Read More Read Less   1 ShapeCreated with Sketch.thumb_up copy 5Created with Sketch.Report this postFill 3Created with Sketch.\", ' FTE |   55-64 |   Male |   On medication for 6 months to less than 1 year |   Patient   10/25/2021  Condition: Slow Progression of Disease of the Arteries of the Heart  Overall rating 1.7 EffectivenessEase of UseSatisfactionI have arteriosclerosis but low cholesterol.  This drug has produced extremely low lipids and side effects that the doctor ignores.  Started at 80mg dose and my hands felt like they were burning.  Cut to 40mg, still problems with memory, brain fog, balance, numb hands.  I cut it to 20mg, and still having same side effects.  Doctor wants to move it back to 80mg and refuses to do anything else.  Time for a new cardiologist, 1 ShapeCreated with Sketch.thumb_up copy 5Created with Sketch.Report this postFill 3Created with Sketch.', ' BigD |   65-74 |    On medication for 1 to 6 months |   Patient  5/3/2019  Condition: Treatment to Prevent a Heart Attack  Overall rating 2.7 EffectivenessEase of UseSatisfactionI have just had a terrible experience with Atorvastatin which I believe came about mostly because my Dr. prescribed a dose of this drug which was way to high.  FYI, PFZ advises a starting dose for lipitor of only 10-20 mg.  My TC initially was 201, tri 116,and LDL-c of 130.  These are all well within the normal range for mass tested healthy populations.  My Dr. (for what reason only god knows) started me at 80 mg of Atorvastatin.  Within weeks I felt terrible, achy, depressed, moody, forgetful etc.   I requested a new lipid test at one month.  The results frightened me.  TC of **86**, LDL of only ***27*** - OUCH.   What did my doctor say?  “Good job!  I think we can now lower the dose to 40mg.”  To this I said BYE doc!   I have now stopped taking the drug altogether because my research indicates that statins do little and are very risky in the long run. Common frightening complaints filed with the FDA are that statins raise the risk of diabetes, liver problems, muscle pains, and memory loss.  For those who wish to come up to speed on this, search for a meta study completed by 16 docs and researchers of 39 trials involving over 900,000 patients titled: “LDL-C does not cause cardiovascular disease:”  A real eye opener!     Most do not need this drug.  Visit the FDA adverse side effect database called FAERS to get a good side effect profile. And, if you must take this drug, start at the lowest dose possible. In most instances, 10 mg of Lipitor will lower the lipid profile into the desired range within three months. For more on this visit the FAERS (fda) database.  Cholesterol exists in every cell in our bodies for very good reasons and 30% of it resides in our brains. Going too low is very dangerous.  Mother nature gave us cholesterol for very good reasons.   Read More Read Less   4 ShapeCreated with Sketch.thumb_up copy 5Created with Sketch.Report this postFill 3Created with Sketch.', \" Anonymous |  35-44 |   Female |   On medication for less than 1 month |   Patient  3/8/2017  Condition: High Cholesterol  Overall rating 1.0 EffectivenessEase of UseSatisfactionName the side effect and I got it. Side effects began on 2nd day. I don't understand with so many drugs for lowering cholesterol why any doctor would prescribe this one. Would never take again. 35 ShapeCreated with Sketch. 1 thumb_up copy 5Created with Sketch.Report this postFill 3Created with Sketch.\", ' Johnny Bags |   35-44 |    On medication for less than 1 month |   Patient  12/29/2015  Condition: High Cholesterol  Overall rating 5.0 EffectivenessEase of UseSatisfactionI have had high cholesterol for years, now my triglycerides are up and my good cholesterol is way down. I had neck and hip pain before taking this with 10000 IU vitamin d3 and omega 3, changed diet and began exercising. I feel pretty good, it has only been 2 weeks so we will see what happens over 3 months. 13 ShapeCreated with Sketch. 2 thumb_up copy 5Created with Sketch.Report this postFill 3Created with Sketch.', ' rph |   65-74 |   Male |   On medication for 10 years or more |   Patient  11/30/2014  Condition: Homozygous Inherited High Blood Cholesterol  Overall rating 4.3 EffectivenessEase of UseSatisfactionFor last 20 years I;m on different Satatins, some are more effective then others. Now after this period I have blood glucose gone up and am a borderline diabetic patient. for which I take medication. I have been told and by physicians and read all Statins increase blood sugar. And many other side affects either ignored or not mentioned by drug companies in detail. Had I was not on this medication I could have a stroke or hear problem, though i never had any heart problem, blood pressure or diabetes when i started this medication  20 years ago only High cholesterol. Read More Read Less  ShapeCreated with Sketch.thumb_up copy 5Created with Sketch.Report this postFill 3Created with Sketch.', ' Anonymous |  75 or over |   Female |   On medication for 6 months to less than 1 year |    6/14/2014  Condition: High Cholesterol  Overall rating 2.7 EffectivenessEase of UseSatisfactionI started taking Atorvastatin on July 24, 2013. en days later experienced severe stomach pain with cramps. This has gone on since. tried taking in morning, at night, with food. No relief. I  stopped taking it June 14th 2014. Hopeful I will improve. Time will tell. 29 ShapeCreated with Sketch.thumb_up copy 5Created with Sketch.Report this postFill 3Created with Sketch.', ' Anonymous |  45-54 |   Male |   On medication for 5 to less than 10 years |   Patient  10/29/2013  Condition: High Cholesterol  Overall rating 5.0 EffectivenessEase of UseSatisfactionI have been taking atorvastatin (Lipitor) for several years now, and have had no problems at all.  My cholesterol has stayed low the entire time I have been taking this medication. 31 ShapeCreated with Sketch. 1 thumb_up copy 5Created with Sketch.Report this postFill 3Created with Sketch.', ' ohoh |   65-74 |   Male |   On medication for 1 to 6 months |   Patient  4/22/2013  Condition: High Amount of Triglyceride in the Blood  Overall rating 5.0 EffectivenessEase of UseSatisfactionI am a 70 year old male.  I have taken a 40mg. dose of this med. for 90 days. I began with a trigliceride count of 550 and it is now 153. 2 ShapeCreated with Sketch.thumb_up copy 5Created with Sketch.Report this postFill 3Created with Sketch.', ' joseph |   65-74 |   Male |   On medication for 5 to less than 10 years |   Patient  3/8/2012  Condition: High Cholesterol  Overall rating 5.0 EffectivenessEase of UseSatisfaction 14 ShapeCreated with Sketch. 8 thumb_up copy 5Created with Sketch.Report this postFill 3Created with Sketch.']\n"
          ]
        }
      ],
      "source": [
        "#Create an empty list to store data.\n",
        "#Create an empty list to store data.\n",
        "data = []\n",
        "\n",
        "# Find all <div> elements with the class \"shared-reviews-container\" within 'all_page_contents' HTML.\n",
        "page_all = []\n",
        "\n",
        "for page in all_page_contents:\n",
        "    page_all.append(page.find_all(\"div\", class_=\"shared-reviews-container\"))\n",
        "\n",
        "# page_all = all_page_contents.find_all(\"div\", class_=\"shared-reviews-container\")\n",
        "\n",
        "# Loop through the elements found by 'find_all'.\n",
        "for res_set in page_all:\n",
        "    for container in res_set:\n",
        "        # Find the first <div> element with the class \"review-details-holder\" within each 'container'.\n",
        "        page_all_div = container.find(\"div\", class_=\"review-details-holder\")\n",
        "\n",
        "        # Check if 'page_all_div' is not None before proceeding.\n",
        "        if page_all_div:\n",
        "            # Find the first <div> element with the class \"review-details\" within 'page_all_div'.\n",
        "            page = page_all_div.find(\"div\", class_=\"review-details\")\n",
        "\n",
        "            # Check if 'page' is not None before extracting text.\n",
        "            if page:\n",
        "                # Extract text content and append it to the 'data' list.\n",
        "                data.append(page.text)\n",
        "\n",
        "# Print the 'data' list containing the text content of the first 20 elements.\n",
        "print(data[:20])\n",
        "\n",
        "\n"
      ]
    },
    {
      "cell_type": "code",
      "execution_count": null,
      "metadata": {
        "id": "Rc_H1SnSO146"
      },
      "outputs": [],
      "source": [
        "\n",
        "# # Example HTML string (replace this with your actual HTML content)\n",
        "# html_string = \"\"\"\n",
        "# <html>\n",
        "#     <body>\n",
        "#         <div class=\"shared-reviews-container\">Review 1</div>\n",
        "#         <div class=\"shared-reviews-container\">Review 2</div>\n",
        "#         <div class=\"shared-reviews-container\">Review 3</div>\n",
        "#     </body>\n",
        "# </html>\n",
        "# \"\"\"\n",
        "\n",
        "# # Create a BeautifulSoup object from the HTML string\n",
        "# all_page_contents = BeautifulSoup(html_string, \"html.parser\")\n",
        "\n",
        "# Now, you can use find_all on the BeautifulSoup object\n",
        "# page_all = all_page_contents.find_all(\"div\", class_=\"shared-reviews-container\")\n",
        "\n",
        "# # Loop through the elements found by 'find_all'.\n",
        "# for container in page_all:\n",
        "#     print(container.text)\n"
      ]
    },
    {
      "cell_type": "code",
      "execution_count": 11,
      "metadata": {
        "id": "scw6bAyL1k0E"
      },
      "outputs": [],
      "source": [
        "# Initialize an empty list to store condition details from each page\n",
        "page_details = []\n"
      ]
    },
    {
      "cell_type": "code",
      "execution_count": 12,
      "metadata": {
        "colab": {
          "base_uri": "https://localhost:8080/"
        },
        "id": "LZBP0rWS3HNq",
        "outputId": "d323d7a0-d259-4e2b-c68b-91d6f142ecc0"
      },
      "outputs": [
        {
          "ename": "NameError",
          "evalue": "name 'result' is not defined",
          "output_type": "error",
          "traceback": [
            "\u001b[1;31m---------------------------------------------------------------------------\u001b[0m",
            "\u001b[1;31mNameError\u001b[0m                                 Traceback (most recent call last)",
            "\u001b[1;32md:\\Work\\DreamSpace\\priya-web-scrape\\drug1 (1).ipynb Cell 15\u001b[0m line \u001b[0;36m7\n\u001b[0;32m      <a href='vscode-notebook-cell:/d%3A/Work/DreamSpace/priya-web-scrape/drug1%20%281%29.ipynb#X20sZmlsZQ%3D%3D?line=1'>2</a>\u001b[0m page_details \u001b[39m=\u001b[39m []\n\u001b[0;32m      <a href='vscode-notebook-cell:/d%3A/Work/DreamSpace/priya-web-scrape/drug1%20%281%29.ipynb#X20sZmlsZQ%3D%3D?line=3'>4</a>\u001b[0m \u001b[39m# Assuming you have a 'result' list containing pages as BeautifulSoup objects\u001b[39;00m\n\u001b[0;32m      <a href='vscode-notebook-cell:/d%3A/Work/DreamSpace/priya-web-scrape/drug1%20%281%29.ipynb#X20sZmlsZQ%3D%3D?line=4'>5</a>\u001b[0m \n\u001b[0;32m      <a href='vscode-notebook-cell:/d%3A/Work/DreamSpace/priya-web-scrape/drug1%20%281%29.ipynb#X20sZmlsZQ%3D%3D?line=5'>6</a>\u001b[0m \u001b[39m# Iterate through each page's content in the 'result' list\u001b[39;00m\n\u001b[1;32m----> <a href='vscode-notebook-cell:/d%3A/Work/DreamSpace/priya-web-scrape/drug1%20%281%29.ipynb#X20sZmlsZQ%3D%3D?line=6'>7</a>\u001b[0m \u001b[39mfor\u001b[39;00m page \u001b[39min\u001b[39;00m result:\n\u001b[0;32m      <a href='vscode-notebook-cell:/d%3A/Work/DreamSpace/priya-web-scrape/drug1%20%281%29.ipynb#X20sZmlsZQ%3D%3D?line=7'>8</a>\u001b[0m     \u001b[39m# Find the first <strong> element with the class \"condition\" on the current page\u001b[39;00m\n\u001b[0;32m      <a href='vscode-notebook-cell:/d%3A/Work/DreamSpace/priya-web-scrape/drug1%20%281%29.ipynb#X20sZmlsZQ%3D%3D?line=8'>9</a>\u001b[0m     condition \u001b[39m=\u001b[39m page\u001b[39m.\u001b[39mfind(\u001b[39m\"\u001b[39m\u001b[39mstrong\u001b[39m\u001b[39m\"\u001b[39m, class_\u001b[39m=\u001b[39m\u001b[39m\"\u001b[39m\u001b[39mcondition\u001b[39m\u001b[39m\"\u001b[39m)\n\u001b[0;32m     <a href='vscode-notebook-cell:/d%3A/Work/DreamSpace/priya-web-scrape/drug1%20%281%29.ipynb#X20sZmlsZQ%3D%3D?line=10'>11</a>\u001b[0m     \u001b[39m# Check if the 'condition' element was found on the current page\u001b[39;00m\n",
            "\u001b[1;31mNameError\u001b[0m: name 'result' is not defined"
          ]
        }
      ],
      "source": [
        "\n",
        "# Initialize an empty list to store page details\n",
        "page_details = []\n",
        "\n",
        "# Assuming you have a 'result' list containing pages as BeautifulSoup objects\n",
        "\n",
        "# Iterate through each page's content in the 'result' list\n",
        "for page in result:\n",
        "    # Find the first <strong> element with the class \"condition\" on the current page\n",
        "    condition = page.find(\"strong\", class_=\"condition\")\n",
        "\n",
        "    # Check if the 'condition' element was found on the current page\n",
        "    if condition is not None:\n",
        "        # Append the text content of the 'condition' element to 'page_details'\n",
        "        page_details.append(condition.text)\n",
        "    else:\n",
        "        # Handle the case where 'condition' element was not found (optional)\n",
        "        page_details.append(\"Condition not found on this page\")\n",
        "\n",
        "# After the loop, 'page_details' should contain the condition details from all pages\n",
        "print(len(page_details))\n",
        "\n",
        "\n",
        "\n",
        "\n"
      ]
    },
    {
      "cell_type": "code",
      "execution_count": null,
      "metadata": {
        "id": "eI4IAB9VNtW0"
      },
      "outputs": [],
      "source": [
        "# save the data csv\n",
        "files = {'condition':page_details,}\n",
        "file = pd.DataFrame(files).to_csv('drugs.csv')\n"
      ]
    },
    {
      "cell_type": "code",
      "execution_count": null,
      "metadata": {
        "id": "Do6RO90hSvnD"
      },
      "outputs": [],
      "source": [
        "\n",
        "# Create a Python dictionary with a key \"condition\" and a value (e.g., a string)\n",
        "#data = {\"condition\": \"some_value\"}\n",
        "\n",
        "# Convert the dictionary to a JSON string\n",
        "json_data = json.dumps(files)\n",
        "\n",
        "# Now, json_data contains the JSON representation of the dictionary\n"
      ]
    },
    {
      "cell_type": "code",
      "execution_count": null,
      "metadata": {
        "id": "eokwRsjNTh-l"
      },
      "outputs": [],
      "source": [
        "word = wordcloud.WordCloud(width=800, height=400, background_color='pink').generate(json_data)\n"
      ]
    },
    {
      "cell_type": "code",
      "execution_count": null,
      "metadata": {
        "colab": {
          "base_uri": "https://localhost:8080/",
          "height": 422
        },
        "id": "A_063kV4VK5O",
        "outputId": "003cf4e5-c9c7-4955-f0ed-aee1b9c6b255"
      },
      "outputs": [
        {
          "data": {
            "image/png": "[encoded data removed]",
            "text/plain": [
              "<Figure size 1000x500 with 1 Axes>"
            ]
          },
          "metadata": {},
          "output_type": "display_data"
        }
      ],
      "source": [
        "plt.figure(figsize=(10, 5))\n",
        "plt.imshow(word, interpolation='bilinear')\n",
        "plt.axis(\"off\")\n",
        "plt.show()"
      ]
    }
  ],
  "metadata": {
    "colab": {
      "provenance": []
    },
    "kernelspec": {
      "display_name": "Python 3",
      "name": "python3"
    },
    "language_info": {
      "codemirror_mode": {
        "name": "ipython",
        "version": 3
      },
      "file_extension": ".py",
      "mimetype": "text/x-python",
      "name": "python",
      "nbconvert_exporter": "python",
      "pygments_lexer": "ipython3",
      "version": "3.11.5"
    }
  },
  "nbformat": 4,
  "nbformat_minor": 0
}
